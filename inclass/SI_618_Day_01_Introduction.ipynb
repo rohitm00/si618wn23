{
 "cells": [
  {
   "attachments": {},
   "cell_type": "markdown",
   "metadata": {},
   "source": [
    "# Stuff here"
   ]
  },
  {
   "cell_type": "code",
   "execution_count": 2,
   "metadata": {},
   "outputs": [
    {
     "name": "stdout",
     "output_type": "stream",
     "text": [
      "Last updated: 2022-12-27T15:24:01.765635-05:00\n",
      "\n",
      "Python implementation: CPython\n",
      "Python version       : 3.9.13\n",
      "IPython version      : 8.7.0\n",
      "\n",
      "Compiler    : Clang 13.1.6 (clang-1316.0.21.2.5)\n",
      "OS          : Darwin\n",
      "Release     : 22.1.0\n",
      "Machine     : arm64\n",
      "Processor   : arm\n",
      "CPU cores   : 8\n",
      "Architecture: 64bit\n",
      "\n"
     ]
    }
   ],
   "source": [
    "%reload_ext watermark\n",
    "%watermark"
   ]
  },
  {
   "cell_type": "code",
   "execution_count": 4,
   "metadata": {},
   "outputs": [],
   "source": [
    "import pandas as pd\n",
    "import json\n",
    "import requests"
   ]
  },
  {
   "cell_type": "code",
   "execution_count": 5,
   "metadata": {},
   "outputs": [
    {
     "name": "stdout",
     "output_type": "stream",
     "text": [
      "pandas  : 1.5.2\n",
      "requests: 2.28.1\n",
      "json    : 2.0.9\n",
      "sys     : 3.9.13 (main, Aug 28 2022, 18:56:22) \n",
      "[Clang 13.1.6 (clang-1316.0.21.2.5)]\n",
      "\n"
     ]
    }
   ],
   "source": [
    "%watermark --iversions"
   ]
  },
  {
   "cell_type": "code",
   "execution_count": 9,
   "metadata": {},
   "outputs": [
    {
     "name": "stdout",
     "output_type": "stream",
     "text": [
      "Time,Carbon dioxide(ppm),Temperature(°C),Relative humidity(%),Atmospheric pressure(hPa)\n",
      "1/18/2022 9:46:13 PM,\"1656\",\"15.0\",\"52\",\"990\"\n",
      "1/18/2022 9:47:13 PM,\"1656\",\"15.0\",\"52\",\"990\"\n",
      "1/18/2022 9:48:13 PM\n"
     ]
    }
   ],
   "source": [
    "url = 'https://raw.githubusercontent.com/umsi-data-science/data/main/aranet4.csv'\n",
    "content = requests.get(url).text\n",
    "print(content[:200]) # show the first 200 characters of the content"
   ]
  },
  {
   "attachments": {},
   "cell_type": "markdown",
   "metadata": {},
   "source": [
    "### Challenge: Calculate the mean temperature for the data in aranet4.csv\n",
    "The datafile can be found at ../data/aranet4.csv (assuming you downloaded a zip file or cloned the GitHub repo).  Your output should consist of the following:\n",
    "\n",
    "```Mean temperature: X.XX```\n",
    "\n",
    "where `X.XX` is the mean temperature rounded to two decimal places.  For example: 27.23 or 4.32 or -1.20.\n",
    "\n",
    "You should use only base python and the functions provided by the `csv` module."
   ]
  },
  {
   "cell_type": "markdown",
   "metadata": {},
   "source": []
  },
  {
   "cell_type": "code",
   "execution_count": 37,
   "metadata": {},
   "outputs": [
    {
     "name": "stdout",
     "output_type": "stream",
     "text": [
      "5774\n",
      "Mean temperature: 17.75\n"
     ]
    }
   ],
   "source": [
    "filename = '../data/aranet4.csv'\n",
    "import csv\n",
    "\n",
    "sum = 0\n",
    "count = 0\n",
    "\n",
    "with open(filename, 'r') as f:\n",
    "    reader = csv.reader(f)\n",
    "    for row in reader:\n",
    "        count = count + 1\n",
    "        if count < 2:\n",
    "            continue\n",
    "        temp = float(row[2])\n",
    "        sum = sum + temp\n",
    "count = count - 1\n",
    "print(f\"Mean temperature: {sum/count:4.2f}\")"
   ]
  },
  {
   "attachments": {},
   "cell_type": "markdown",
   "metadata": {},
   "source": [
    "Now let's do it using pandas"
   ]
  },
  {
   "cell_type": "code",
   "execution_count": 41,
   "metadata": {},
   "outputs": [
    {
     "name": "stdout",
     "output_type": "stream",
     "text": [
      "17.75\n"
     ]
    }
   ],
   "source": [
    "aranet_measurements = pd.read_csv(filename)\n",
    "print(f\"{aranet_measurements['Temperature(°C)'].mean():4.2f}\")"
   ]
  },
  {
   "cell_type": "code",
   "execution_count": 34,
   "metadata": {},
   "outputs": [
    {
     "name": "stdout",
     "output_type": "stream",
     "text": [
      "<class 'pandas.core.frame.DataFrame'>\n",
      "RangeIndex: 5773 entries, 0 to 5772\n",
      "Data columns (total 5 columns):\n",
      " #   Column                     Non-Null Count  Dtype  \n",
      "---  ------                     --------------  -----  \n",
      " 0   Time                       5773 non-null   object \n",
      " 1   Carbon dioxide(ppm)        5773 non-null   int64  \n",
      " 2   Temperature(°C)            5773 non-null   float64\n",
      " 3   Relative humidity(%)       5773 non-null   int64  \n",
      " 4   Atmospheric pressure(hPa)  5773 non-null   int64  \n",
      "dtypes: float64(1), int64(3), object(1)\n",
      "memory usage: 225.6+ KB\n"
     ]
    }
   ],
   "source": [
    "aranet_measurements.info()"
   ]
  },
  {
   "cell_type": "code",
   "execution_count": null,
   "metadata": {},
   "outputs": [],
   "source": []
  }
 ],
 "metadata": {
  "kernelspec": {
   "display_name": ".venv",
   "language": "python",
   "name": "python3"
  },
  "language_info": {
   "codemirror_mode": {
    "name": "ipython",
    "version": 3
   },
   "file_extension": ".py",
   "mimetype": "text/x-python",
   "name": "python",
   "nbconvert_exporter": "python",
   "pygments_lexer": "ipython3",
   "version": "3.9.13"
  },
  "orig_nbformat": 4,
  "vscode": {
   "interpreter": {
    "hash": "90fd63f6819c340b438e5c293ddfb31e39be622c688d56bb62c76ae0c0566a54"
   }
  }
 },
 "nbformat": 4,
 "nbformat_minor": 2
}
