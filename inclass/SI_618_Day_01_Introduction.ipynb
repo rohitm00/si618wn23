{
 "cells": [
  {
   "attachments": {},
   "cell_type": "markdown",
   "metadata": {},
   "source": [
    "<H1>SI 618 Day 01 - Introduction</H1>\n",
    "Dr. Chris Teplovs, University of Michigan School of Information\n",
    "<p>\n",
    "<small><a rel=\"license\" href=\"http://creativecommons.org/licenses/by-nc-sa/4.0/\"><img alt=\"Creative Commons License\" style=\"border-width:0\" src=\"https://i.creativecommons.org/l/by-nc-sa/4.0/88x31.png\" /></a><br/> This work is licensed under a <a rel=\"license\" href=\"http://creativecommons.org/licenses/by-nc-sa/4.0/\">Creative Commons Attribution-NonCommercial-ShareAlike 4.0 International License</a>.\n",
    "</small>\n",
    "</p>"
   ]
  },
  {
   "attachments": {},
   "cell_type": "markdown",
   "metadata": {},
   "source": [
    "## Learning Objectives\n",
    "By the end of this class, you should:\n",
    "* confirm that you have a working Jupyter environment using Visual Studio Code (VS Code)\n",
    "* be able to open and edit a Jupyter notebook\n",
    "* be able to run a Jupyter notebook\n",
    "* have written your first code in this class\n",
    "* have successfully submitted an assignment to Canvas"
   ]
  },
  {
   "attachments": {},
   "cell_type": "markdown",
   "metadata": {},
   "source": [
    "You will be working in this notebook. When we are done, you will submit this notebook in two formats: HTML and IPYNB"
   ]
  },
  {
   "cell_type": "code",
   "execution_count": null,
   "metadata": {},
   "outputs": [],
   "source": [
    "import pandas as pd\n",
    "import csv\n",
    "import requests"
   ]
  },
  {
   "attachments": {},
   "cell_type": "markdown",
   "metadata": {},
   "source": [
    "Let's load a useful Jupyter extension, which can be used to report the version numbers of various components we use:"
   ]
  },
  {
   "cell_type": "code",
   "execution_count": null,
   "metadata": {},
   "outputs": [],
   "source": [
    "%reload_ext watermark\n",
    "%watermark"
   ]
  },
  {
   "cell_type": "code",
   "execution_count": null,
   "metadata": {},
   "outputs": [],
   "source": [
    "%watermark --iversions"
   ]
  },
  {
   "attachments": {},
   "cell_type": "markdown",
   "metadata": {},
   "source": [
    "Those are \"Jupyter magic\" commands.  There are two types of Jupyter magic commands: line magic and cell magic.  Line magic commands start with a single `%` and can exist anywhere in a cell.  Cell magic commands start with a double `%%` and must be the first line in a cell if used.\n",
    "\n",
    "We'll be using a number of different magic commands throughout the course.  Keep in mind that these are specific to Jupyter and are not available for plain old (scripted) python."
   ]
  },
  {
   "attachments": {},
   "cell_type": "markdown",
   "metadata": {},
   "source": [
    "### Challenge: Calculate the mean temperature for the data in aranet4.csv\n",
    "The datafile can be found at ../data/aranet4.csv (assuming you downloaded a zip file or cloned the GitHub repo).  Your output should consist of the following:\n",
    "\n",
    "```Mean temperature: X.XX```\n",
    "\n",
    "where `X.XX` is the mean temperature rounded to two decimal places.  For example: 27.23 or 4.32 or -1.20.\n",
    "\n",
    "You should use only base python and the functions provided by the `csv` module.\n",
    "\n",
    "We have started your cell for you, so all you need to do is write code to do the implementation.  In case you manage to delete the starter code, here it is in Markdown:\n",
    "```\n",
    "filename = '../data/aranet4.csv'\n",
    "import csv\n",
    "```"
   ]
  },
  {
   "cell_type": "code",
   "execution_count": null,
   "metadata": {},
   "outputs": [],
   "source": [
    "filename = '../data/aranet4.csv'\n",
    "import csv\n",
    "\n",
    "# replace this with your code"
   ]
  },
  {
   "attachments": {},
   "cell_type": "markdown",
   "metadata": {},
   "source": [
    "Now let's do it using pandas"
   ]
  },
  {
   "cell_type": "code",
   "execution_count": null,
   "metadata": {},
   "outputs": [],
   "source": [
    "aranet_measurements = pd.read_csv(filename)\n",
    "print(f\"Mean temperature: {aranet_measurements['Temperature(°C)'].mean():.2f}\")"
   ]
  },
  {
   "attachments": {},
   "cell_type": "markdown",
   "metadata": {},
   "source": [
    "## END OF NOTEBOOK\n",
    "Remember to submit this notebook to Canvas in both HTML and IPYNB formats."
   ]
  },
  {
   "cell_type": "markdown",
   "metadata": {},
   "source": []
  }
 ],
 "metadata": {
  "kernelspec": {
   "display_name": ".venv",
   "language": "python",
   "name": "python3"
  },
  "language_info": {
   "codemirror_mode": {
    "name": "ipython",
    "version": 3
   },
   "file_extension": ".py",
   "mimetype": "text/x-python",
   "name": "python",
   "nbconvert_exporter": "python",
   "pygments_lexer": "ipython3",
   "version": "3.9.13"
  },
  "orig_nbformat": 4,
  "vscode": {
   "interpreter": {
    "hash": "90fd63f6819c340b438e5c293ddfb31e39be622c688d56bb62c76ae0c0566a54"
   }
  }
 },
 "nbformat": 4,
 "nbformat_minor": 2
}
